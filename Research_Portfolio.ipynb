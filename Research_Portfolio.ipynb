{
  "nbformat": 4,
  "nbformat_minor": 0,
  "metadata": {
    "colab": {
      "name": "Research Portfolio.ipynb",
      "provenance": [],
      "collapsed_sections": []
    },
    "kernelspec": {
      "name": "python3",
      "display_name": "Python 3"
    }
  },
  "cells": [
    {
      "cell_type": "markdown",
      "metadata": {
        "id": "4duKElJKQyk_"
      },
      "source": [
        "# Introduction\n",
        "Welcome my fellow bots to this one and for all historic moment where I crack the big question of what console is better, PlayStation or X-Box. Like in the video, don't take my opinions as facts, altho data can be very convincing your happiness is what matters the most to me. So even if you preferred X-Box but PlayStation won during this research don't stop using the X-Box. Anyway, I am getting off track. This project uses data from the website [kaggle](https://www.kaggle.com/gregorut/videogamesales) that contains information about games and all their details. I have used many comparisons when making this research but before I get on to that, let's talk about the dataset.\n",
        "\n",
        "\n",
        "---\n",
        "\n",
        "## About the dataset\n",
        "This dataset contains **11** fields. More information is provided on the table below.\n",
        "\n",
        "| Field      | Description | Data Type |\n",
        "| ----------- | ----------- |----------- |\n",
        "| Rank      | The ranking of the game       | int\n",
        "| Name   | The name of the game        | String\n",
        "| Platform   | The console that the game was sold on        | String\n",
        "| Year   | The time the game was sold at        | int\n",
        "| Genre   | The Genre of the game (i.e Sports, Action)        | String\n",
        "| Publisher   | The company that published the games        | String\n",
        "| NA_Sales   | The sales in North America (millions)      | float\n",
        "| EU_Sales   | The sales in Europe (millions)       | float\n",
        "| JP_Sales   | The sales in Japan (millions)       | float\n",
        "| Other_Sales   | The sales in other parts of the world apart from the mentioned top mentioned 3       | float\n",
        "| World_Sales   | The sales total in the world (millions)       | float\n",
        "\n",
        "\n",
        "\n",
        "---\n",
        "\n",
        "## Procedure of the experiment\n",
        "Here is how this research is going to function. All the consoles or, as known in this dataset, **Platforms** will be compared with each important category essentially making up a **Round**. Although this dataset contains multiple consoles, we will only be comparing the ones with Playstation with the ones of X-Box. Feel free to modify code to include your console of choice. Each round competed will earn a point which will be awarded to the winning console. There is a maximum of **5 points** with **6 rounds** including an extra bonus round. These rounds are listed below.\n",
        "\n",
        "\n",
        "1.   Round(a):- Publisher Vs Console (Which publisher Prefers what console)?\n",
        "2.   Round(b):- What console had the most games?\n",
        "3.   Round(c):- Genre Vs Console (What genre was most popular in each console i.e the best genre (per console))?\n",
        "4. Round(d):- Console Usage Over the years (Console vs Year).\n",
        "5. Round(e):- Most Popular consoles in NA, EU, JP & Others.\n",
        "6. Round(f)(bonus):- Ranking of game vs Overall Console Usage\n",
        "\n",
        "***Lets take a look at these rounds in more detail!!!***\n",
        "\n",
        "\n",
        "\n"
      ]
    },
    {
      "cell_type": "markdown",
      "metadata": {
        "id": "S1NRO15ILB8Q"
      },
      "source": [
        "# (a) Publisher Vs Console\n",
        "I am beginning with this as I personally think this is one of the most powerful indicators for the power of the console. It is very obvious that the **game ultimately defines the demand for the console**. Some people may deny this but fundamentally, this is true, if tomorrow FIFA released FIFA22 on PlayStation but not X-Box will FIFA fans even consider buying an X-Box? My point exactly. Let's look at the code! If you are not familiar with the code below, do not worry, I will run you down the **most important** sections and their explanations."
      ]
    },
    {
      "cell_type": "markdown",
      "metadata": {
        "id": "qTqwfmTgMLQE"
      },
      "source": [
        "## Data Preprocessing\n",
        "You are going to see me use this cell repeatedly in the upcoming rounds as the library matplotlib **cannot** be reused as an object. If it can please feel free to use that version."
      ]
    },
    {
      "cell_type": "markdown",
      "metadata": {
        "id": "T_YlMoFJNq0t"
      },
      "source": [
        "### Importing the libraries"
      ]
    },
    {
      "cell_type": "code",
      "metadata": {
        "id": "imfajawAMKiH"
      },
      "source": [
        "# Importing the libraries\n",
        "import numpy as np\n",
        "import pandas as pd\n",
        "import matplotlib.pyplot as plt"
      ],
      "execution_count": 1,
      "outputs": []
    },
    {
      "cell_type": "markdown",
      "metadata": {
        "id": "04mDq33MNZzT"
      },
      "source": [
        "### Getting the dataset\n",
        "This line basically takes the data from 'vgsales.csv' which is a **Comma Separated File** and extracts its data."
      ]
    },
    {
      "cell_type": "code",
      "metadata": {
        "id": "gUADNV3CNupU"
      },
      "source": [
        "# Common Data Preprocessing\n",
        "dataset = pd.read_csv('vgsales.csv')"
      ],
      "execution_count": 2,
      "outputs": []
    },
    {
      "cell_type": "markdown",
      "metadata": {
        "id": "a7lOsjEROFKY"
      },
      "source": [
        "### Making the data compatible with the library\n",
        "The library, [matplotlib](https://matplotlib.org/tutorials/introductory/pyplot.html), we are using to display amazing **graph-like structures** require a certain format for the data to be in order for it to plot the data properly. That is what the below-mentioned code does."
      ]
    },
    {
      "cell_type": "code",
      "metadata": {
        "id": "nk7MrqAuOtUT"
      },
      "source": [
        "# Getting the Round Specific values (Publisher Vs Console)\n",
        "publisher = dataset['Publisher'].values\n",
        "console = dataset['Platform'].values\n",
        "\n",
        "# The top 2 lines above this line gets the specific field in-order to do the\n",
        "#   data crunching\n",
        "\n",
        "# Splitting the data into viable histograms\n",
        "\n",
        "# Calculating the number of unique values\n",
        "console_set = set(console) # Returns a set of unique values\n",
        "num_of_unique_consoles = len(console_set) # 31 Unique Consoles"
      ],
      "execution_count": 3,
      "outputs": []
    },
    {
      "cell_type": "markdown",
      "metadata": {
        "id": "DDhQcsWAPFWl"
      },
      "source": [
        "## Plotting the preprocessed data\n",
        "The code block below basically plots the values.\n",
        "\n",
        "### Explanation of usage\n",
        "**Method Name**\n",
        "#### [plt.hist()](https://matplotlib.org/3.3.3/api/_as_gen/matplotlib.pyplot.hist.html)\n",
        "**Paramater Description**\n",
        "\n",
        "| Paramater      | Description |\n",
        "| ----------- | ----------- |\n",
        "| console      | The data to be plotted.       |\n",
        "| bins   | From what column to what column to take the data from.        |\n",
        "| align      | How the bars must be aligned       |\n",
        "| rwidth      | Width of the bars (from 0 - 1).       |\n",
        "| color      | The color of the bars.       |\n",
        "\n",
        "**Example**\n",
        "```\n",
        "plt.hist(console, bins=[4, 5], align='left', rwidth=0.8, color='green')\n",
        "```\n",
        "\n",
        "\n",
        "---\n",
        "\n",
        "\n",
        "\n",
        "**Method Name**\n",
        "#### [plt.xlabel() & plt.ylabel()](https://matplotlib.org/3.1.1/api/_as_gen/matplotlib.pyplot.xlabel.html)\n",
        "**Paramater Description**\n",
        "\n",
        "| Paramater      | Description |\n",
        "| ----------- | ----------- |\n",
        "| Text     | The text of the horizontal & vertical axis respectively       |\n",
        "\n",
        "\n",
        "**Example**\n",
        "```\n",
        "plt.xlabel(\"Console\\nBlue: Play Station\\nGreen: X-Box\")\n",
        "plt.ylabel(\"Probability Density Of Volume\")\n",
        "```\n",
        "\n",
        "\n",
        "---\n",
        "\n",
        "\n",
        "\n",
        "**Method Name**\n",
        "#### [plt.show()](https://matplotlib.org/3.3.3/api/_as_gen/matplotlib.pyplot.show.html)\n",
        "**Paramater Description**\n",
        "\n",
        "| Paramater      | Description |\n",
        "| ----------- | ----------- |\n",
        "| NA     | Just Shows the generated graph       |\n",
        "\n",
        "\n",
        "**Example**\n",
        "```\n",
        "plt.show()\n",
        "```\n",
        "\n",
        "\n",
        "---\n",
        "\n"
      ]
    },
    {
      "cell_type": "code",
      "metadata": {
        "colab": {
          "base_uri": "https://localhost:8080/",
          "height": 303
        },
        "id": "KMLeSqquPSp6",
        "outputId": "e4cb1aa4-fff3-471e-bd6c-7a510f1c0b69"
      },
      "source": [
        "# Plotting the results\n",
        "plt.xlabel(\"Console\\nBlue: Play Station\\nGreen: X-Box\")\n",
        "plt.ylabel(\"Probability Density Of Volume\")\n",
        "plt.hist(console, bins=[4, 5], align='left', rwidth=0.8, color='green')\n",
        "plt.hist(console, bins=[5, 6], align='left', rwidth=0.8, color='blue')\n",
        "plt.hist(console, bins=[6, 7], align='left', rwidth=0.8, color='blue')\n",
        "plt.hist(console, bins=[10, 11], align='left', rwidth=0.8, color='blue')\n",
        "plt.hist(console, bins=[12, 13], align='left', rwidth=0.8, color='blue')\n",
        "plt.hist(console, bins=[13, 14], align='left', rwidth=0.8, color='green')\n",
        "plt.hist(console, bins=[16, 17], align='left', rwidth=0.8, color='blue')\n",
        "plt.hist(console, bins=[17, 18], align='left', rwidth=0.8, color='green')\n",
        "plt.show()"
      ],
      "execution_count": 4,
      "outputs": [
        {
          "output_type": "display_data",
          "data": {
            "image/png": "[encoded data removed]",
            "text/plain": [
              "<Figure size 432x288 with 1 Axes>"
            ]
          },
          "metadata": {
            "tags": [],
            "needs_background": "light"
          }
        }
      ]
    },
    {
      "cell_type": "markdown",
      "metadata": {
        "id": "QeJ3nK7nUESV"
      },
      "source": [
        "## Round(a) Winner PlayStation!!!\n",
        "Just based on the graph above it is very clear that more publishers prefer to publish their games on PlayStations given by the height of the bar graph. **Blue** represents Playstation while **Green** represents X-Box. The vertical axis may seem confusing to you but it is just the density of the sheer volume of the amount of game published by publishers. We will not be covering ***histograms*** on our tour so let's continue.\n",
        "\n",
        "\n",
        "---\n",
        "### Points as of Round(a)\n",
        "\n",
        "| Console      | Points |\n",
        "| ----------- | ----------- |\n",
        "| Play Station      | 1       |\n",
        "| X-Box   | 0        |"
      ]
    },
    {
      "cell_type": "markdown",
      "metadata": {
        "id": "tOiHV5_FWpSk"
      },
      "source": [
        "## A Note on deleting the libraries\n",
        "As each round of code was executed on different files, to make my results as consistent as possible, I delete the libraries I import and import them back again to make sure that the past **declarations** doesn't affect the upcoming result. This like will be executed again and again after each round"
      ]
    },
    {
      "cell_type": "code",
      "metadata": {
        "id": "I8h5Al9XV3e9"
      },
      "source": [
        "del plt\n",
        "del np\n",
        "del pd"
      ],
      "execution_count": 5,
      "outputs": []
    },
    {
      "cell_type": "markdown",
      "metadata": {
        "id": "wUFfTAFCUbJP"
      },
      "source": [
        "# (b)  What console had the most games?\n",
        "This part is probably one of the easiest sections in this research experiment. This was just for you, the reader, to **be aware of the amount of data I am dealing with** to do this research. "
      ]
    },
    {
      "cell_type": "markdown",
      "metadata": {
        "id": "KCP4MapEU-vI"
      },
      "source": [
        "## Importing the libraries"
      ]
    },
    {
      "cell_type": "code",
      "metadata": {
        "id": "SXyURe3EVBmp"
      },
      "source": [
        "import numpy as np\n",
        "import pandas as pd\n",
        "import matplotlib.pyplot as plt"
      ],
      "execution_count": 6,
      "outputs": []
    },
    {
      "cell_type": "markdown",
      "metadata": {
        "id": "zNv0qQeXVDi-"
      },
      "source": [
        "## Data Preprocessing"
      ]
    },
    {
      "cell_type": "markdown",
      "metadata": {
        "id": "myvLMN73VHHX"
      },
      "source": [
        "### Getting the dataset"
      ]
    },
    {
      "cell_type": "code",
      "metadata": {
        "id": "va0juCqIVQFq"
      },
      "source": [
        "# Common Data Preprocessing\n",
        "dataset = pd.read_csv('vgsales.csv')\n",
        "\n",
        "platform = dataset['Platform'].values"
      ],
      "execution_count": 7,
      "outputs": []
    },
    {
      "cell_type": "markdown",
      "metadata": {
        "id": "BGa6vkL9VSXL"
      },
      "source": [
        "### Making the data compatible with the library"
      ]
    },
    {
      "cell_type": "code",
      "metadata": {
        "id": "uOl-j_49VWbe"
      },
      "source": [
        "# Convering to a 2d array\n",
        "platform = np.array(platform.reshape(-1, 1))\n",
        "\n",
        "# Getting the num of consoles for each category\n",
        "num_of_playstations = 0\n",
        "num_of_xbox = 0\n",
        "# Extracting the number of consoles\n",
        "for current_element in platform:\n",
        "    if current_element == \"PS3\" or current_element== \"PS2\" or current_element == \"PS4\" or current_element == \"PS\" or current_element == \"PSP\":\n",
        "        num_of_playstations += 1\n",
        "    elif current_element == \"X360\" or current_element == \"XB\" or current_element == \"XONE\":\n",
        "        num_of_xbox +=1"
      ],
      "execution_count": 8,
      "outputs": []
    },
    {
      "cell_type": "markdown",
      "metadata": {
        "id": "EHFh8F4sVl3v"
      },
      "source": [
        "## Plotting the results"
      ]
    },
    {
      "cell_type": "code",
      "metadata": {
        "colab": {
          "base_uri": "https://localhost:8080/",
          "height": 281
        },
        "id": "VMMk430AVqbu",
        "outputId": "9eb370b3-4c9a-4164-ee9d-0929e574fee7"
      },
      "source": [
        "plt.bar([\"Play Station\", \"X-Box\"],height=[num_of_playstations, num_of_xbox], color=['blue', 'green'])"
      ],
      "execution_count": 9,
      "outputs": [
        {
          "output_type": "execute_result",
          "data": {
            "text/plain": [
              "<BarContainer object of 2 artists>"
            ]
          },
          "metadata": {
            "tags": []
          },
          "execution_count": 9
        },
        {
          "output_type": "display_data",
          "data": {
            "image/png": "[encoded data removed]",
            "text/plain": [
              "<Figure size 432x288 with 1 Axes>"
            ]
          },
          "metadata": {
            "tags": [],
            "needs_background": "light"
          }
        }
      ]
    },
    {
      "cell_type": "markdown",
      "metadata": {
        "id": "gClgILfcV9g-"
      },
      "source": [
        "## Conclusion\n",
        "This round is awarded no points based on the sole feature that the number of consoles does not affect the overall rating of it. Despite giving the PlayStation a **bigger edge** over the X-Box, I will not count points for this round."
      ]
    },
    {
      "cell_type": "code",
      "metadata": {
        "id": "AeiI4NR8VuSh"
      },
      "source": [
        "del plt\n",
        "del np\n",
        "del pd"
      ],
      "execution_count": 10,
      "outputs": []
    },
    {
      "cell_type": "markdown",
      "metadata": {
        "id": "0gLr2hLtuwbC"
      },
      "source": [
        "# (c) Genre Vs Console\n",
        "This section deals with the question of what genre is mostly used in each console. These genres include:-\n",
        "\n",
        "1. Action.\n",
        "2. Puzzle.\n",
        "3. Simulation.\n",
        "4. Role-Playing.\n",
        "5. Adventure.\n",
        "6. Misc.\n",
        "7. Fighting.\n",
        "8. Platform.\n",
        "9. Shooter\n",
        "10. Strategy.\n",
        "11. Sports.\n",
        "12. Racing.\n",
        "\n",
        "Based on these genres we will use the **Upper Confidence Bound Algorithm (UCB)** to determine the most genres in each console. This is useful as there is less data for each console and the UCB predicts the most used feature in the least amount of time possible. Details of the UCB is discussed in the next block."
      ]
    },
    {
      "cell_type": "markdown",
      "metadata": {
        "id": "62lTN_rb3NIP"
      },
      "source": [
        "## Importing the libraires\n",
        "The math library is imported to perform the **square root** and the **log** function for the upper confidence bound algoritm."
      ]
    },
    {
      "cell_type": "code",
      "metadata": {
        "id": "h8vhrfTY3QAa"
      },
      "source": [
        "import numpy as np\n",
        "import pandas as pd\n",
        "import matplotlib.pyplot as plt\n",
        "import math"
      ],
      "execution_count": 11,
      "outputs": []
    },
    {
      "cell_type": "markdown",
      "metadata": {
        "id": "bBArjow0wVFW"
      },
      "source": [
        "## Upper Confidence Bound (UCB)\n",
        "As mentioned previously, it determines the most optimal feature, given multiple features, to ensure the quickest derivation of results. This algorithm solves a famous problem known as the [Multi-Armed Bandit Problem](https://towardsdatascience.com/solving-the-multi-armed-bandit-problem-b72de40db97c). In short, it tries to find the best arm to pull to get the most optimal, or even the best, reward out of a System.\n",
        "\n",
        "---\n",
        "## **Explanation**\n",
        "Imagine having 5 machines, each machine having its own distribution but we don't know the distributions yet. Now in order to determine what machine gives us the highest rewards we try each and every single machine. As we try them we get a rough idea of what machine derives the best results.\n",
        "\n",
        "\n",
        "---\n",
        "## **How it works**\n",
        "Below are the 3 steps that are required to perform the UCB algorithm. Before we go through the steps, lets set the variables straight.\n",
        "\n",
        "### Variables\n",
        "* n = Number of rounds\n",
        "* i = Number of machines (for each round)\n",
        "\n",
        "### Steps\n",
        "In order to compute the final score and determine the best machine, we must go through these processes.\n",
        "\n",
        "1.  At each round n we consider 2 numbers for each machine i\n",
        "\n",
        "\n",
        "\n",
        "*   Ni(n) - The number of times machine i was selected up to round n.\n",
        "*   Ri(n) - The sum of rewards of the machine i up to round n.\n",
        "\n",
        "\n",
        "2. From these 2 numbers, we compute:\n",
        "* The average reward of the machine i up to round n.\n",
        "ri(n) = Ri(n)/Ni(n).\n",
        "* The Confidence interval\n",
        "∆i(n) = square_root(3/2*(log(n)/Ni(n)))\n",
        "\n",
        "3. The result of 2 outputs the bounds, we just **add** the bounds with the average to derive the **upper** bound.\n",
        "\n",
        "\n",
        "---\n",
        "\n",
        "\n",
        "\n"
      ]
    },
    {
      "cell_type": "markdown",
      "metadata": {
        "id": "Fa2VemVU20sf"
      },
      "source": [
        "### The Code"
      ]
    },
    {
      "cell_type": "code",
      "metadata": {
        "id": "7zP3hf5E24L_"
      },
      "source": [
        "def UpperConfidenceBound(preprocessed_data, width, height):\n",
        "    # Initializing the variables for the algorithm\n",
        "    genre_selected = []\n",
        "    numbers_of_selections = [0]*width\n",
        "    sums_of_rewards = [0]*width\n",
        "    total_reward = 0\n",
        "    # Looping through all the data\n",
        "    for n in range(0, height):\n",
        "        genre = 0 # Initializing the genre selected\n",
        "        max_upper_bound = 0\n",
        "        for i in range(0, width):\n",
        "            if(numbers_of_selections[i] > 0):\n",
        "              # Step 2\n",
        "                average_reward = sums_of_rewards[i]/numbers_of_selections[i]\n",
        "                delta_i = math.sqrt(3/2*math.log(n+1)/numbers_of_selections[i])\n",
        "                # Step 3\n",
        "                upper_bound = average_reward + delta_i\n",
        "            else:\n",
        "                upper_bound = 1e400 # Setting it to a vary high value\n",
        "            if (upper_bound > max_upper_bound):\n",
        "                max_upper_bound = upper_bound\n",
        "                genre = i\n",
        "        genre_selected.append(genre)\n",
        "        numbers_of_selections[genre] += 1\n",
        "        reward = preprocessed_data[n, genre]\n",
        "        sums_of_rewards[genre] += reward\n",
        "        total_reward += reward\n",
        "    return genre_selected"
      ],
      "execution_count": 12,
      "outputs": []
    },
    {
      "cell_type": "markdown",
      "metadata": {
        "id": "O9jCXXW032tr"
      },
      "source": [
        "## Data Preprocessing"
      ]
    },
    {
      "cell_type": "markdown",
      "metadata": {
        "id": "bSv2_-rU36oa"
      },
      "source": [
        "### Getting the dataset"
      ]
    },
    {
      "cell_type": "code",
      "metadata": {
        "id": "tngkG-FQ399x"
      },
      "source": [
        "# Common Data Preprocessing\n",
        "dataset = pd.read_csv('vgsales.csv')"
      ],
      "execution_count": 13,
      "outputs": []
    },
    {
      "cell_type": "markdown",
      "metadata": {
        "id": "XlhIpSJJ4DeH"
      },
      "source": [
        "### Making the data compatible with the library"
      ]
    },
    {
      "cell_type": "code",
      "metadata": {
        "id": "eZxTQiKK4PDN"
      },
      "source": [
        "# Getting the round related variables\n",
        "genre = dataset['Genre'].values\n",
        "platform = dataset['Platform'].values\n",
        "\n",
        "# Converting the round related features into a 2d array\n",
        "genre = np.array(genre).reshape(-1, 1)\n",
        "platform = np.array(platform).reshape(-1, 1)\n",
        "\n",
        "# Merging the 2 arrays\n",
        "input_arr = np.concatenate((genre, platform), 1)"
      ],
      "execution_count": 14,
      "outputs": []
    },
    {
      "cell_type": "markdown",
      "metadata": {
        "id": "CLriwkHB4Rl8"
      },
      "source": [
        "#### Team PlayStation\n",
        "##### **Things  to look out for**\n",
        "* [np.zeros()](https://numpy.org/doc/stable/reference/generated/numpy.zeros.html)"
      ]
    },
    {
      "cell_type": "code",
      "metadata": {
        "id": "ABN43ZDk4U0l"
      },
      "source": [
        "# Getting all the PS values from the array\n",
        "list_of_play_station_genres = []\n",
        "for current_element in input_arr:\n",
        "    if current_element[1] == \"PS3\" or current_element[1] == \"PS2\" or current_element[1] == \"PS4\" or current_element[1] == \"PS\" or current_element[1] == \"PSP\":\n",
        "        list_of_play_station_genres.append(current_element[0])\n",
        "\n",
        "# Deriving the number of unique genres for playstation\n",
        "set_of_uniq_genre_ps = set(list_of_play_station_genres)\n",
        "num_of_uniq_genre_ps = len(set_of_uniq_genre_ps)\n",
        "\n",
        "# Initializing the array\n",
        "initial_preprocessed_ps_data = np.zeros((6235, num_of_uniq_genre_ps)) # Creates a list of zeros\n",
        "\n",
        "# Generating the preprocessing data (For PlayStation)\n",
        "for i in range(0, 6235):\n",
        "    j = 0 # Variable to keep track of index\n",
        "    for gen in set_of_uniq_genre_ps:\n",
        "        if list_of_play_station_genres[i] == gen:\n",
        "            initial_preprocessed_ps_data[i, j] = 1\n",
        "            break\n",
        "        else:\n",
        "            j += 1\n",
        "            continue\n",
        "\n",
        "# Initializing the final preprocessed data\n",
        "final_preprocessed_ps_data = initial_preprocessed_ps_data\n",
        "\n",
        "# Getting the final plots from the UCB algorithm we had made earlier\n",
        "ps_plots = UpperConfidenceBound(final_preprocessed_ps_data, num_of_uniq_genre_ps, 6235)"
      ],
      "execution_count": 15,
      "outputs": []
    },
    {
      "cell_type": "markdown",
      "metadata": {
        "id": "-2GJMlfN5DxX"
      },
      "source": [
        "#### Team X-Box"
      ]
    },
    {
      "cell_type": "code",
      "metadata": {
        "id": "WNyjosNK6kxN"
      },
      "source": [
        "list_of_X_box_genres = []\n",
        "for current_element in input_arr:\n",
        "    if current_element[1] == \"X360\" or current_element[1] == \"XB\" or current_element[1] == \"XONE\":\n",
        "        list_of_X_box_genres.append(current_element[0])\n",
        "\n",
        "# Deriving the number of unique genres for X_box\n",
        "set_of_uniq_genre_x_box = set(list_of_X_box_genres)\n",
        "num_of_uniq_genre_x_box = len(set_of_uniq_genre_x_box)\n",
        "\n",
        "# Initializing the array\n",
        "initial_preprocessed_x_box_data = np.zeros((2089, num_of_uniq_genre_ps))\n",
        "\n",
        "# Generating the preprocessing data (For X-Box)\n",
        "for i in range(0, 2089):\n",
        "    j = 0 # Variable to keep track of index\n",
        "    for gen in set_of_uniq_genre_x_box:\n",
        "        if list_of_X_box_genres[i] == gen:\n",
        "            initial_preprocessed_x_box_data[i, j] = 1\n",
        "            break\n",
        "        else:\n",
        "            j += 1\n",
        "            continue\n",
        "\n",
        "# Initializing the final preprocessed data\n",
        "final_preprocessed_x_box_data = initial_preprocessed_x_box_data\n",
        "\n",
        "# Getting the final plots from the UCB algorithm\n",
        "x_box_plots = UpperConfidenceBound(final_preprocessed_x_box_data, num_of_uniq_genre_x_box, 2089)"
      ],
      "execution_count": 16,
      "outputs": []
    },
    {
      "cell_type": "markdown",
      "metadata": {
        "id": "66d54_kA6psy"
      },
      "source": [
        "## Plotting the final results"
      ]
    },
    {
      "cell_type": "code",
      "metadata": {
        "colab": {
          "base_uri": "https://localhost:8080/",
          "height": 307
        },
        "id": "mYzFiK2E6tKm",
        "outputId": "6aa32f48-49b9-48c0-8a39-efae595edae4"
      },
      "source": [
        "plt.subplot(221)\n",
        "plt.title(\"PlayStation\")\n",
        "plt.xlabel(\"Genre\")\n",
        "plt.ylabel(\"Selected Amounts\")\n",
        "plt.hist(ps_plots, align='left', color='blue', rwidth=0.8)\n",
        "plt.subplot(223)\n",
        "plt.xlabel(\"Genre\\nX-Box\")\n",
        "plt.ylabel(\"Selected Amounts\")\n",
        "plt.hist(x_box_plots, align='left', color='green', rwidth=0.8)\n",
        "plt.show() "
      ],
      "execution_count": 17,
      "outputs": [
        {
          "output_type": "display_data",
          "data": {
            "image/png": "[encoded data removed]",
            "text/plain": [
              "<Figure size 432x288 with 2 Axes>"
            ]
          },
          "metadata": {
            "tags": [],
            "needs_background": "light"
          }
        }
      ]
    },
    {
      "cell_type": "markdown",
      "metadata": {
        "id": "YDxoGN5C6xpJ"
      },
      "source": [
        "## Round (c) winner??\n",
        "This section is one of those sections that are personalised. What does that mean?? It means that it depends on your preference in the genre. As shown by the graph above, it is clear that one console is more suited to one console than the other. Before you choose, let's see what each number represents as the x-axis is **encoded**.\n",
        "\n",
        "### For Playstation\n",
        "\n",
        "0. Sports.\n",
        "1. Misc.\n",
        "2.Simulation.\n",
        "3. Strategy.\n",
        "4. Shooter.\n",
        "5. Racing.\n",
        "6. Fighting.\n",
        "7.Platform.\n",
        "9. Adventure.\n",
        "10. Puzzle\n",
        "11. Role-Playing.\n",
        "\n",
        "### For X-Box\n",
        "0. Misc\n",
        "1. Sports\n",
        "2.Simulation.\n",
        "3. Strategy.\n",
        "4. Shooter.\n",
        "5. Racing.\n",
        "6. Fighting.\n",
        "7.Platform.\n",
        "9. Adventure.\n",
        "10. Puzzle\n",
        "11. Role-Playing.\n",
        "\n",
        "For me personally, I prefer racing and adventure games so, therefore, **X-Box** gets a point on this pass.\n",
        "\n",
        "\n",
        "---\n",
        "\n",
        "### Points as of Round(c)\n",
        "\n",
        "| Console      | Points |\n",
        "| ----------- | ----------- |\n",
        "| Play Station      | 1       |\n",
        "| X-Box   | 1        |"
      ]
    },
    {
      "cell_type": "code",
      "metadata": {
        "id": "JJioY7Hk_ASe"
      },
      "source": [
        "del plt\n",
        "del np\n",
        "del pd\n",
        "del math"
      ],
      "execution_count": 18,
      "outputs": []
    },
    {
      "cell_type": "markdown",
      "metadata": {
        "id": "csxFUazsU-9M"
      },
      "source": [
        "# (d) Console Usage Over the years\n",
        "This round covers the relationship between the year and the number of consoles used within that time frame to get an overall better picture of how the consoles performed throughout the years."
      ]
    },
    {
      "cell_type": "markdown",
      "metadata": {
        "id": "2wGIfyUBWnMC"
      },
      "source": [
        "## Importing the libraries"
      ]
    },
    {
      "cell_type": "code",
      "metadata": {
        "id": "tOdv39mNWj1j"
      },
      "source": [
        "import numpy as np\n",
        "import pandas as pd\n",
        "import matplotlib.pyplot as plt"
      ],
      "execution_count": 19,
      "outputs": []
    },
    {
      "cell_type": "markdown",
      "metadata": {
        "id": "_HSuv5SYWfMP"
      },
      "source": [
        "## Data Preprocessing"
      ]
    },
    {
      "cell_type": "markdown",
      "metadata": {
        "id": "UlSOjpRdWvda"
      },
      "source": [
        "### Getting the dataset"
      ]
    },
    {
      "cell_type": "code",
      "metadata": {
        "id": "5q-ag6axWzwl"
      },
      "source": [
        "# Common Data Preprocessing\n",
        "dataset = pd.read_csv('vgsales.csv')"
      ],
      "execution_count": 20,
      "outputs": []
    },
    {
      "cell_type": "markdown",
      "metadata": {
        "id": "5HXQFYaoW245"
      },
      "source": [
        "### Making the data compatible with the library"
      ]
    },
    {
      "cell_type": "code",
      "metadata": {
        "id": "crXu2dKGXQt2"
      },
      "source": [
        "# Getting the round specific data\n",
        "year = dataset['Year'].values\n",
        "platform = dataset['Platform'].values\n",
        "\n",
        "# Converting into 2d arrays\n",
        "year = np.array(year).reshape(-1, 1)\n",
        "platform = np.array(platform).reshape(-1, 1)\n",
        "input_arr = np.concatenate((year, platform), 1)"
      ],
      "execution_count": 21,
      "outputs": []
    },
    {
      "cell_type": "markdown",
      "metadata": {
        "id": "joqRRicmYwkY"
      },
      "source": [
        "### Preparing the variables to be plotted in the graph"
      ]
    },
    {
      "cell_type": "code",
      "metadata": {
        "id": "5-G_kq2BY3vC"
      },
      "source": [
        "# Creating a dictionary of playstations and X-Boxes\n",
        "list_of_consoles = []\n",
        "for current_element in input_arr:\n",
        "    if current_element[1] == \"PS3\" or current_element[1] == \"PS2\" or current_element[1] == \"PS4\" or current_element[1] == \"PS\" or current_element[1] == \"PSP\":\n",
        "        list_of_consoles.append({\"Console\": \"Play Station\", \"Year\": current_element[0]})\n",
        "    elif current_element[1] == \"X360\" or current_element[1] == \"XB\" or current_element[1] == \"XONE\":\n",
        "        list_of_consoles.append({\"Console\": \"X-Box\", \"Year\": current_element[0]})\n",
        "\n",
        "\n",
        "# Getting all the variables for a plot\n",
        "X_Box_plots = []\n",
        "Play_Station_Plots = []\n",
        "for curr2_element in list_of_consoles:\n",
        "    if curr2_element.get(\"Console\") == \"X-Box\":\n",
        "        X_Box_plots.append(curr2_element.get(\"Year\"))\n",
        "    else:\n",
        "        Play_Station_Plots.append(curr2_element.get(\"Year\"))"
      ],
      "execution_count": 22,
      "outputs": []
    },
    {
      "cell_type": "markdown",
      "metadata": {
        "id": "sl6GXs8dY7N5"
      },
      "source": [
        "## Plotting the final results\n",
        "\n",
        "**Method Name**\n",
        "#### [plt.subplot()](https://matplotlib.org/3.3.3/api/_as_gen/matplotlib.pyplot.subplot.html)\n",
        "**Paramater Description**\n",
        "\n",
        "| Paramater      | Description |\n",
        "| ----------- | ----------- |\n",
        "| Index     | A 3 digit number (usually starts with 221) that producesmultiple graphs in one pallete.      |\n",
        "\n",
        "\n",
        "**Example**\n",
        "```\n",
        "plt.subplot(221)\n",
        "```"
      ]
    },
    {
      "cell_type": "code",
      "metadata": {
        "colab": {
          "base_uri": "https://localhost:8080/",
          "height": 441
        },
        "id": "9DbVsOBQZCGi",
        "outputId": "13f96f6c-1e5f-4b0a-85a1-582525bccd9f"
      },
      "source": [
        "plt.subplot(221)\n",
        "plt.title(\"Play Station\")\n",
        "plt.xlabel(\"Year\")\n",
        "plt.ylabel(\"Volume\")\n",
        "plt.hist(Play_Station_Plots, color='blue', rwidth=0.8, align='left')\n",
        "plt.subplot(223)\n",
        "plt.xlabel(\"Year\\nX-Box\")\n",
        "plt.ylabel(\"Volume\")\n",
        "plt.hist(X_Box_plots, color='green', rwidth=0.8, align='left')"
      ],
      "execution_count": 23,
      "outputs": [
        {
          "output_type": "stream",
          "text": [
            "/usr/local/lib/python3.6/dist-packages/numpy/lib/histograms.py:839: RuntimeWarning: invalid value encountered in greater_equal\n",
            "  keep = (tmp_a >= first_edge)\n",
            "/usr/local/lib/python3.6/dist-packages/numpy/lib/histograms.py:840: RuntimeWarning: invalid value encountered in less_equal\n",
            "  keep &= (tmp_a <= last_edge)\n"
          ],
          "name": "stderr"
        },
        {
          "output_type": "execute_result",
          "data": {
            "text/plain": [
              "(array([ 34., 347., 177., 352., 126., 320., 388., 106., 140.,  48.]),\n",
              " array([2000. , 2001.6, 2003.2, 2004.8, 2006.4, 2008. , 2009.6, 2011.2,\n",
              "        2012.8, 2014.4, 2016. ]),\n",
              " <a list of 10 Patch objects>)"
            ]
          },
          "metadata": {
            "tags": []
          },
          "execution_count": 23
        },
        {
          "output_type": "display_data",
          "data": {
            "image/png": "[encoded data removed]",
            "text/plain": [
              "<Figure size 432x288 with 2 Axes>"
            ]
          },
          "metadata": {
            "tags": [],
            "needs_background": "light"
          }
        }
      ]
    },
    {
      "cell_type": "markdown",
      "metadata": {
        "id": "CFvK2Bw1Z0hD"
      },
      "source": [
        "## Round(d) Winner PlayStation!!!\n",
        "There are 2 reasons why I have come to this conclusion, one is that PlayStation has been here for a very long time dating back to the **1980s** while X-Box was a recent **2000s**. The sheer volume of usage for the PlayStation is also very evident with having its peak around 2010 along with X-Box.\n",
        "\n",
        "\n",
        "---\n",
        "\n",
        "### Points as of Round(d)\n",
        "\n",
        "| Console      | Points |\n",
        "| ----------- | ----------- |\n",
        "| Play Station      | 2       |\n",
        "| X-Box   | 1        |"
      ]
    },
    {
      "cell_type": "code",
      "metadata": {
        "id": "ULShVDkX0yDH"
      },
      "source": [
        "del plt\n",
        "del np\n",
        "del pd"
      ],
      "execution_count": 24,
      "outputs": []
    },
    {
      "cell_type": "markdown",
      "metadata": {
        "id": "HOU8hHO-XOu0"
      },
      "source": [
        "# (e) Most Popular consoles in NA, EU, JP & Others\n",
        "This section deals with the **sales** of video games and it's respective consoles across the whole world."
      ]
    },
    {
      "cell_type": "markdown",
      "metadata": {
        "id": "2zp-ixglYLd6"
      },
      "source": [
        "## Importing the libraries"
      ]
    },
    {
      "cell_type": "code",
      "metadata": {
        "id": "xVZM4C5iYS1q"
      },
      "source": [
        "import numpy as np\n",
        "import pandas as pd\n",
        "import matplotlib.pyplot as plt"
      ],
      "execution_count": 25,
      "outputs": []
    },
    {
      "cell_type": "markdown",
      "metadata": {
        "id": "Bjyiz6njYVMQ"
      },
      "source": [
        "## Data Preprocessing"
      ]
    },
    {
      "cell_type": "markdown",
      "metadata": {
        "id": "yhSYCgRGYYaA"
      },
      "source": [
        "### Getting the dataset"
      ]
    },
    {
      "cell_type": "code",
      "metadata": {
        "id": "c0CFQQMhYdDU"
      },
      "source": [
        "# Common Data Preprocessing\n",
        "dataset = pd.read_csv('vgsales.csv')"
      ],
      "execution_count": 26,
      "outputs": []
    },
    {
      "cell_type": "markdown",
      "metadata": {
        "id": "arbsmA3sYfy0"
      },
      "source": [
        "### Making the data compatible with the library"
      ]
    },
    {
      "cell_type": "code",
      "metadata": {
        "id": "-XaFznVJYkNg"
      },
      "source": [
        "# Getting the problem specific datasets\n",
        "us_sales = dataset['NA_Sales'].values\n",
        "eu_sales = dataset['EU_Sales'].values\n",
        "jp_sales = dataset['JP_Sales'].values\n",
        "other_sales = dataset['Other_Sales'].values\n",
        "platform = dataset['Platform'].values\n",
        "\n",
        "# Converting these values into a 2d array\n",
        "us_sales = np.array(us_sales).reshape(-1, 1)\n",
        "eu_sales = np.array(eu_sales).reshape(-1, 1)\n",
        "jp_sales = np.array(jp_sales).reshape(-1, 1)\n",
        "other_sales = np.array(other_sales).reshape(-1, 1)\n",
        "platform = np.array(platform).reshape(-1, 1)\n",
        "\n",
        "# Concatenating all the values\n",
        "input_arr = np.concatenate((us_sales, eu_sales, jp_sales, other_sales, platform), 1)\n",
        "\n",
        "# Getting the console specific values\n",
        "list_of_consoles = []\n",
        "for current_element in input_arr:\n",
        "    if current_element[-1] == \"PS3\" or current_element[-1] == \"PS2\" or current_element[-1] == \"PS4\" or current_element[-1] == \"PS\" or current_element[-1] == \"PSP\":\n",
        "        list_of_consoles.append({\"Console\": \"Play Station\", \"US\": current_element[0], \"EU\": current_element[1], \"JP\": current_element[2], \"Other\": current_element[3]})\n",
        "    elif current_element[-1] == \"X360\" or current_element[-1] == \"XB\" or current_element[-1] == \"XONE\":\n",
        "        list_of_consoles.append({\"Console\": \"X-Box\", \"US\": current_element[0], \"EU\": current_element[1], \"JP\": current_element[2], \"Other\": current_element[3]})\n",
        "        \n",
        "# Play Station & X-Box Preprocess\n",
        "array_to_be_plotted_ps = []\n",
        "array_to_be_plotted_x_box = []\n",
        "for i in range(0, len(list_of_consoles)):\n",
        "    if list_of_consoles[i].get(\"Console\") == \"Play Station\":\n",
        "        array_to_be_plotted_ps.append([list_of_consoles[i].get(\"US\"), list_of_consoles[i].get(\"EU\"), list_of_consoles[i].get(\"JP\"), list_of_consoles[i].get(\"Other\")])\n",
        "    else:\n",
        "        array_to_be_plotted_x_box.append([list_of_consoles[i].get(\"US\"), list_of_consoles[i].get(\"EU\"), list_of_consoles[i].get(\"JP\"), list_of_consoles[i].get(\"Other\")])\n",
        "        \n",
        "# Converting the newly generated arrays to a 2d array\n",
        "array_to_be_plotted_ps = np.array(array_to_be_plotted_ps).reshape(-1, 4)\n",
        "array_to_be_plotted_x_box = np.array(array_to_be_plotted_x_box).reshape(-1, 4)"
      ],
      "execution_count": 27,
      "outputs": []
    },
    {
      "cell_type": "markdown",
      "metadata": {
        "id": "gVPXKv7EY-6Z"
      },
      "source": [
        "## Initializing for Play Station (Plotting the results)"
      ]
    },
    {
      "cell_type": "code",
      "metadata": {
        "colab": {
          "base_uri": "https://localhost:8080/",
          "height": 312
        },
        "id": "1VTbdIaFZJwM",
        "outputId": "86b7617c-3f91-4303-949f-02e9a0e09a9c"
      },
      "source": [
        "# Play Station\n",
        "\n",
        "# Initializing the plots\n",
        "us_ps = []\n",
        "eu_ps = []\n",
        "jp_ps = []\n",
        "ot_ps = []\n",
        "\n",
        "# Filling up the lists\n",
        "for i in range(0, len(array_to_be_plotted_ps)-6185):\n",
        "    us_ps.append(array_to_be_plotted_ps[i, 0])\n",
        "    eu_ps.append(array_to_be_plotted_ps[i, 1])\n",
        "    jp_ps.append(array_to_be_plotted_ps[i, 2])\n",
        "    ot_ps.append(array_to_be_plotted_ps[i, 3])\n",
        "\n",
        "# Test plotting Play Station\n",
        "y = []\n",
        "for i in range(0, len(array_to_be_plotted_ps)-6185):\n",
        "    y.append(i)\n",
        "plt.subplot(111)\n",
        "plt.title(\"Play Station Sales\")\n",
        "plt.xlabel(\"Pass\")\n",
        "plt.ylabel(\"Sales (Millions)\")\n",
        "plt.scatter(y, us_ps, marker=\"X\", label=\"US\")\n",
        "plt.scatter(y, eu_ps, marker=\"X\", label=\"Europe\")\n",
        "plt.scatter(y, jp_ps, marker=\"X\", label=\"Japan\")\n",
        "plt.scatter(y, ot_ps, marker=\"X\", label=\"Others\")\n",
        "plt.legend()"
      ],
      "execution_count": 28,
      "outputs": [
        {
          "output_type": "execute_result",
          "data": {
            "text/plain": [
              "<matplotlib.legend.Legend at 0x7f417d78ad30>"
            ]
          },
          "metadata": {
            "tags": []
          },
          "execution_count": 28
        },
        {
          "output_type": "display_data",
          "data": {
            "image/png": "[encoded data removed]",
            "text/plain": [
              "<Figure size 432x288 with 1 Axes>"
            ]
          },
          "metadata": {
            "tags": [],
            "needs_background": "light"
          }
        }
      ]
    },
    {
      "cell_type": "markdown",
      "metadata": {
        "id": "p2ZWTic1s9jv"
      },
      "source": [
        "### Mini Colclusion (a) PlayStation\n",
        "For the play station, it is very obvious from the scatter plot that the US dominates the sales. Although the highest peak in the plot is on the side of **others**, meaning other parts of the world, the majority of the high plots resides in blue crosses which represent the US."
      ]
    },
    {
      "cell_type": "code",
      "metadata": {
        "id": "sjcKav0W01FR"
      },
      "source": [
        "del plt\n",
        "del np\n",
        "del pd"
      ],
      "execution_count": 29,
      "outputs": []
    },
    {
      "cell_type": "markdown",
      "metadata": {
        "id": "fmM-U4R50G0X"
      },
      "source": [
        "## Initializng for X-Box"
      ]
    },
    {
      "cell_type": "code",
      "metadata": {
        "colab": {
          "base_uri": "https://localhost:8080/",
          "height": 312
        },
        "id": "6tRCdfw00LYB",
        "outputId": "1cd97b88-6e31-41bf-fbdb-2e638faac5bb"
      },
      "source": [
        "# Importing the libraries\n",
        "import numpy as np\n",
        "import pandas as pd\n",
        "import matplotlib.pyplot as plt\n",
        "\n",
        "# X-Box\n",
        "\n",
        "# Initializing the plots\n",
        "us_x_box = []\n",
        "eu_x_box = []\n",
        "jp_x_box = []\n",
        "ot_x_box = []\n",
        "\n",
        "# Filling up the lists\n",
        "for i in range(0, len(array_to_be_plotted_x_box)-1989):\n",
        "    us_x_box.append(array_to_be_plotted_x_box[i, 0])\n",
        "    eu_x_box.append(array_to_be_plotted_x_box[i, 1])\n",
        "    jp_x_box.append(array_to_be_plotted_x_box[i, 2])\n",
        "    ot_x_box.append(array_to_be_plotted_x_box[i, 3])\n",
        "\n",
        "# Test plotting X-Box\n",
        "z = []\n",
        "for i in range(0, len(array_to_be_plotted_x_box)-1989):\n",
        "    z.append(i)\n",
        "plt.title(\"X-Box Sales\")\n",
        "plt.xlabel(\"Pass\")\n",
        "plt.ylabel(\"Sales (Millions)\")\n",
        "plt.scatter(z, us_x_box, marker=\"X\", label=\"US\")\n",
        "plt.scatter(z, eu_x_box, marker=\"X\", label=\"Europe\")\n",
        "plt.scatter(z, jp_x_box, marker=\"X\", label=\"Japan\")\n",
        "plt.scatter(z, ot_x_box, marker=\"X\", label=\"Others\")\n",
        "plt.legend()"
      ],
      "execution_count": 30,
      "outputs": [
        {
          "output_type": "execute_result",
          "data": {
            "text/plain": [
              "<matplotlib.legend.Legend at 0x7f417d813e48>"
            ]
          },
          "metadata": {
            "tags": []
          },
          "execution_count": 30
        },
        {
          "output_type": "display_data",
          "data": {
            "image/png": "[encoded data removed]",
            "text/plain": [
              "<Figure size 432x288 with 1 Axes>"
            ]
          },
          "metadata": {
            "tags": [],
            "needs_background": "light"
          }
        }
      ]
    },
    {
      "cell_type": "markdown",
      "metadata": {
        "id": "QE7IWxd2tIUM"
      },
      "source": [
        "### Mini Conclusion (b) X-Box\n",
        "The X Box plot has no confusing overlaps that the play station had and it's very clear that the X-Box is sold mostly in the **US**, and secondly **Europe** and then come others. This is a very diverse console as it's sales are more **tuned towards the western market**."
      ]
    },
    {
      "cell_type": "markdown",
      "metadata": {
        "id": "YV2JPXajtxsR"
      },
      "source": [
        "## Round (e) Winner??\n",
        "This section doesn't have a clear winner as of course all of you reside in different areas around the world. As discussed before, the X-Box is more tailored to the western consumers so give yourself **1 point** if you live in the western world if you **own an X-Box** or **1 point** if you live somewhere else like Asia, Africa or heck even Antarctica!!! For me, as I reside in Asia, I will give one point for PlayStation.\n",
        "\n",
        "\n",
        "---\n",
        "\n",
        "### Points as of Round(e)\n",
        "\n",
        "| Console      | Points |\n",
        "| ----------- | ----------- |\n",
        "| Play Station      | 3       |\n",
        "| X-Box   | 1        |"
      ]
    },
    {
      "cell_type": "code",
      "metadata": {
        "id": "Q1i4KtskmurC"
      },
      "source": [
        "del plt\n",
        "del np\n",
        "del pd"
      ],
      "execution_count": 31,
      "outputs": []
    },
    {
      "cell_type": "markdown",
      "metadata": {
        "id": "Mfj34bX3_v-V"
      },
      "source": [
        "# (f) Bonus (Ranking of game vs Overall Console Usage)\n",
        "This bonus section is a pretty simple algorithm considering how the best games are distributed among the consoles. Let's take a deeper look."
      ]
    },
    {
      "cell_type": "markdown",
      "metadata": {
        "id": "SSFP_Wy9l7-y"
      },
      "source": [
        "## How the final score is calculated?\n",
        "The final score is calculated using the average of the sums of all the ranks of the games of the PlayStations and the X-Boxes. An average rather than a sum is required as there are **a lot more** samples of PlayStations that X-Boxes. Below is the **formula**.\n",
        "\n",
        "\n",
        "```\n",
        "Σ(Rank of all consoles of specific group)/num of consoles\n",
        "```\n",
        "\n"
      ]
    },
    {
      "cell_type": "markdown",
      "metadata": {
        "id": "70kL-Eyim29w"
      },
      "source": [
        "## Importing the libraries"
      ]
    },
    {
      "cell_type": "code",
      "metadata": {
        "id": "19u8HOrcm7a8"
      },
      "source": [
        "import numpy as np\n",
        "import pandas as pd\n",
        "import matplotlib.pyplot as plt"
      ],
      "execution_count": 32,
      "outputs": []
    },
    {
      "cell_type": "markdown",
      "metadata": {
        "id": "hA-wl6dbnCE7"
      },
      "source": [
        "## Data Preprocessing"
      ]
    },
    {
      "cell_type": "markdown",
      "metadata": {
        "id": "n2fBf2ednFyf"
      },
      "source": [
        "### Getting the dataset"
      ]
    },
    {
      "cell_type": "code",
      "metadata": {
        "id": "Y_q6zI8pnJBo"
      },
      "source": [
        "# Common Data Preprocessing\n",
        "dataset = pd.read_csv('vgsales.csv')"
      ],
      "execution_count": 33,
      "outputs": []
    },
    {
      "cell_type": "markdown",
      "metadata": {
        "id": "618HzQMrnL9D"
      },
      "source": [
        "### Making the data compatible with the library"
      ]
    },
    {
      "cell_type": "code",
      "metadata": {
        "id": "0m2qj1qKnQej"
      },
      "source": [
        "# Getting the necessary variables for the rounds\n",
        "rank = dataset['Rank'].values\n",
        "platform = dataset['Platform'].values\n",
        "\n",
        "# Merging the two arrays\n",
        "rank = np.array(rank).reshape(-1, 1)\n",
        "platform = np.array(platform).reshape(-1, 1)\n",
        "final_input = np.concatenate((rank, platform), 1)\n",
        "\n",
        "# Getting the Play Station and the X-Box exclusives\n",
        "list_of_consoles = []\n",
        "for current_element in final_input:\n",
        "    if current_element[1] == \"PS3\" or current_element[1] == \"PS2\" or current_element[1] == \"PS4\" or current_element[1] == \"PS\" or current_element[1] == \"PSP\":\n",
        "        list_of_consoles.append({\"Console\": \"Play Station\", \"Rank\": current_element[0]})\n",
        "    elif current_element[1] == \"X360\" or current_element[1] == \"XB\" or current_element[1] == \"XONE\":\n",
        "        list_of_consoles.append({\"Console\": \"X-Box\", \"Rank\": current_element[0]})\n",
        "\n",
        "# Extracting the values for each individual console\n",
        "num_of_ps = 0\n",
        "num_of_x_box = 0\n",
        "list_of_ps_ranks = []\n",
        "list_of_x_box_ranks = []\n",
        "\n",
        "# Looping through all the consoles and their ranks\n",
        "for console_dict in list_of_consoles:\n",
        "    if (console_dict.get(\"Console\") == \"Play Station\"):\n",
        "        num_of_ps += 1\n",
        "        list_of_ps_ranks.append(console_dict.get(\"Rank\"))\n",
        "    else:\n",
        "        num_of_x_box += 1\n",
        "        list_of_x_box_ranks.append(console_dict.get(\"Rank\"))\n",
        "\n",
        "# Adding up all the total score for the Play Station & X-Box\n",
        "sum_of_ps_ranks = sum(list_of_ps_ranks)\n",
        "sum_of_x_box_ranks = sum(list_of_x_box_ranks)\n",
        "\n",
        "# Calculating the average score\n",
        "avg_score_ps = sum_of_ps_ranks/num_of_ps\n",
        "avg_score_x_box = sum_of_x_box_ranks/num_of_x_box"
      ],
      "execution_count": 34,
      "outputs": []
    },
    {
      "cell_type": "markdown",
      "metadata": {
        "id": "kNJOrqrMnaVI"
      },
      "source": [
        "## Plotting the results"
      ]
    },
    {
      "cell_type": "code",
      "metadata": {
        "colab": {
          "base_uri": "https://localhost:8080/",
          "height": 295
        },
        "id": "MqtM0K_IndBI",
        "outputId": "ed64034b-3e2d-4b7a-f286-a0142b26e212"
      },
      "source": [
        "plt.title(\"Console Vs Score Index\")\n",
        "plt.xlabel(\"Console Type\")\n",
        "plt.ylabel(\"Average Score\\n(Σ(Scores)/num of consoles)\")\n",
        "plt.bar([\"PlayStation\", \"X-Box\"], [avg_score_ps, avg_score_x_box], color=[\"blue\", \"green\"])\n",
        "plt.show() "
      ],
      "execution_count": 35,
      "outputs": [
        {
          "output_type": "display_data",
          "data": {
            "image/png": "[encoded data removed]",
            "text/plain": [
              "<Figure size 432x288 with 1 Axes>"
            ]
          },
          "metadata": {
            "tags": [],
            "needs_background": "light"
          }
        }
      ]
    },
    {
      "cell_type": "markdown",
      "metadata": {
        "id": "YUT_ZplAngj5"
      },
      "source": [
        "## Bonus Round (f) winner PlayStation!!!\n",
        "As shown by the above graph plot, the average rank of all the PlayStation games is higher than the X-Box. Playstation also wins this round!!!\n",
        "\n",
        "\n",
        "---\n",
        "\n",
        "### Points as of Round(f)\n",
        "\n",
        "| Console      | Points |\n",
        "| ----------- | ----------- |\n",
        "| Play Station      | 4       |\n",
        "| X-Box   | 1        |"
      ]
    },
    {
      "cell_type": "markdown",
      "metadata": {
        "id": "ctcuaIE0oKVH"
      },
      "source": [
        "# The Clear Winner\n",
        "## Final\n",
        "\n",
        "| Console      | Points |Winner\n",
        "| ----------- | ----------- |----------- |\n",
        "| Play Station      | **4**       |***YES***\n",
        "| X-Box      | **1**       |***NO***\n",
        "\n",
        "\n",
        "---\n",
        "\n",
        "After executing 6 rounds and accounting points for the 5 of them, it is very clear that PlayStation is the console for me. Despite PlayStation dominating this test, it may not be the same for you. Clearly, there were some rounds where your lifestyle or your location mattered. Like I said before, the best console truly depends on you and please feel free to download this and modify the code if you want to improve this algorithm. I am obviously not an expert in this. Also, the dataset used contains different console brands as well so feel free to change the parameters of this algorithm and deduce your own conclusions. With that being said, I hope you have enjoyed this paper. Leave it a star if you liked it and until next time!!!\n"
      ]
    }
  ]
}