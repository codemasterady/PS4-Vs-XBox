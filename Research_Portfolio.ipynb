{
  "nbformat": 4,
  "nbformat_minor": 0,
  "metadata": {
    "colab": {
      "name": "Research Portfolio.ipynb",
      "provenance": [],
      "collapsed_sections": []
    },
    "kernelspec": {
      "name": "python3",
      "display_name": "Python 3"
    }
  },
  "cells": [
    {
      "cell_type": "markdown",
      "metadata": {
        "id": "4duKElJKQyk_"
      },
      "source": [
        "# Introduction\n",
        "Welcome my fellow bots to this one and for all historic moment where I crack the big question of what console is better, PlayStation or X-Box. Like in the video, don't take my opinions as facts, tho data can be very convincing your happiness is what matters the most to me. So even if you preferred X-Box but PlayStation won during this research don't stop using the X-Box. Anyway, I am getting off track. This project uses data from the website [kaggle](https://www.kaggle.com/gregorut/videogamesales) that contains information about games and all their details. I have used many comparisons when making this research but before I get on to that, let's talk about the dataset.\n",
        "\n",
        "\n",
        "---\n",
        "\n",
        "## About the dataset\n",
        "This dataset contains **11** fields. More information is provided on the table below.\n",
        "\n",
        "| Field      | Description | Data Type |\n",
        "| ----------- | ----------- |----------- |\n",
        "| Rank      | The ranking of the game       | int\n",
        "| Name   | The name of the game        | String\n",
        "| Platform   | The console that the game was sold on        | String\n",
        "| Year   | The time the game was sold at        | int\n",
        "| Genre   | The Genre of the game (i.e Sports, Action)        | String\n",
        "| Publisher   | The company that published the games        | String\n",
        "| NA_Sales   | The sales in North America (millions)      | float\n",
        "| EU_Sales   | The sales in Europe (millions)       | float\n",
        "| JP_Sales   | The sales in Japan (millions)       | float\n",
        "| Other_Sales   | The sales in other parts of the world apart from the mentioned top mentioned 3       | float\n",
        "| World_Sales   | The sales total in the world (millions)       | float\n",
        "\n",
        "\n",
        "\n",
        "---\n",
        "\n",
        "## Procedure of the experiment\n",
        "Here is how this research is going to function. All the consoles or, as known in this dataset, **Platforms** will be compared with each important category essentially making up a **Round**. Although this dataset contains multiple consoles, we will only be comparing the ones with Playstation with the ones of X-Box. Feel free to modify code to include your console of choice. Each round competed will earn a point which will be awarded to the winning console. There is a maximum of **5 points** with **6 rounds** including an extra bonus round. These rounds are listed below.\n",
        "\n",
        "\n",
        "1.   Round(a):- Publisher Vs Console (Which publisher Prefers what console)?\n",
        "2.   Round(b):- What console had the most games?\n",
        "3.   Round(c):- Genre Vs Console (What genre was most popular in each console i.e the best genre (per console))?\n",
        "4. Round(d):- Console Usage Over the years (Console vs Year).\n",
        "5. Round(e):- Most Popular consoles in NA, EU, JP & Others.\n",
        "6. Round(f)(bonus):- Ranking of game vs Overall Console Usage\n",
        "\n",
        "***Lets take a look at these rounds in more detail!!!***\n",
        "\n",
        "\n",
        "\n"
      ]
    },
    {
      "cell_type": "markdown",
      "metadata": {
        "id": "S1NRO15ILB8Q"
      },
      "source": [
        "# (a) Publisher Vs Console\n",
        "I am beginning with this as I personally think this is one of the most powerful indicators for the power of the console. It is very obvious that the **game ultimately defines the demand for the console**. Some people may deny this but fundamentally, this is true, if tomorrow FIFA released FIFA22 on PlayStation but not X-Box will FIFA fans even consider buying an X-Box? My pint exactly. Let's look at the code! If you are not familiar with the code below, do not worry, I will run you down the **most important** sections and their explanations."
      ]
    },
    {
      "cell_type": "markdown",
      "metadata": {
        "id": "qTqwfmTgMLQE"
      },
      "source": [
        "## Data Preprocessing\n",
        "You are going to see me use this cell repeatedly in the upcoming rounds as the library matplotlib **cannot** be called as an object. If it can please feel free to use that version."
      ]
    },
    {
      "cell_type": "markdown",
      "metadata": {
        "id": "T_YlMoFJNq0t"
      },
      "source": [
        "### Importing the libraries"
      ]
    },
    {
      "cell_type": "code",
      "metadata": {
        "id": "imfajawAMKiH"
      },
      "source": [
        "# Importing the libraries\n",
        "import numpy as np\n",
        "import pandas as pd\n",
        "import matplotlib.pyplot as plt"
      ],
      "execution_count": 1,
      "outputs": []
    },
    {
      "cell_type": "markdown",
      "metadata": {
        "id": "04mDq33MNZzT"
      },
      "source": [
        "### Getting the dataset\n",
        "This line basically takes the data from 'vgsales.csv' which is a **Comma Separated File** and extracts its data."
      ]
    },
    {
      "cell_type": "code",
      "metadata": {
        "id": "gUADNV3CNupU"
      },
      "source": [
        "# Common Data Preprocessing\n",
        "dataset = pd.read_csv('vgsales.csv')"
      ],
      "execution_count": 2,
      "outputs": []
    },
    {
      "cell_type": "markdown",
      "metadata": {
        "id": "a7lOsjEROFKY"
      },
      "source": [
        "### Making the data compatible with the library\n",
        "The library, [matplotlib](https://matplotlib.org/tutorials/introductory/pyplot.html), we are using to display amazing **graph-like structures** require a certain format for the data to be in order for it to plot the data properly. That is what the below-mentioned code does."
      ]
    },
    {
      "cell_type": "code",
      "metadata": {
        "id": "nk7MrqAuOtUT"
      },
      "source": [
        "# Getting the Round Specific values (Publisher Vs Console)\n",
        "publisher = dataset['Publisher'].values\n",
        "console = dataset['Platform'].values\n",
        "\n",
        "# The top 2 lines above this line gets the specific field in-order to do the\n",
        "#   data crunching\n",
        "\n",
        "# Splitting the data into viable histograms\n",
        "\n",
        "# Calculating the number of unique values\n",
        "console_set = set(console) # Returns a set of unique values\n",
        "num_of_unique_consoles = len(console_set) # 31 Unique Consoles"
      ],
      "execution_count": 3,
      "outputs": []
    },
    {
      "cell_type": "markdown",
      "metadata": {
        "id": "DDhQcsWAPFWl"
      },
      "source": [
        "## Plotting the preprocessed data\n",
        "The code block below basically plots the values.\n",
        "\n",
        "### Explanation of usage\n",
        "**Method Name**\n",
        "#### [plt.hist()](https://matplotlib.org/3.3.3/api/_as_gen/matplotlib.pyplot.hist.html)\n",
        "**Paramater Description**\n",
        "\n",
        "| Paramater      | Description |\n",
        "| ----------- | ----------- |\n",
        "| console      | The data to be plotted.       |\n",
        "| bins   | From what column to what column to take the data from.        |\n",
        "| align      | How the bars must be aligned       |\n",
        "| rwidth      | Width of the bars (from 0 - 1).       |\n",
        "| color      | The color of the bars.       |\n",
        "\n",
        "**Example**\n",
        "```\n",
        "plt.hist(console, bins=[4, 5], align='left', rwidth=0.8, color='green')\n",
        "```\n",
        "\n",
        "\n",
        "---\n",
        "\n",
        "\n",
        "\n",
        "**Method Name**\n",
        "#### [plt.xlabel() & plt.ylabel()](https://matplotlib.org/3.1.1/api/_as_gen/matplotlib.pyplot.xlabel.html)\n",
        "**Paramater Description**\n",
        "\n",
        "| Paramater      | Description |\n",
        "| ----------- | ----------- |\n",
        "| Text     | The text of the horizontal & vertical axis respectively       |\n",
        "\n",
        "\n",
        "**Example**\n",
        "```\n",
        "plt.xlabel(\"Console\\nBlue: Play Station\\nGreen: X-Box\")\n",
        "plt.ylabel(\"Probability Density Of Volume\")\n",
        "```\n",
        "\n",
        "\n",
        "---\n",
        "\n",
        "\n",
        "\n",
        "**Method Name**\n",
        "#### [plt.show()](https://matplotlib.org/3.3.3/api/_as_gen/matplotlib.pyplot.show.html)\n",
        "**Paramater Description**\n",
        "\n",
        "| Paramater      | Description |\n",
        "| ----------- | ----------- |\n",
        "| NA     | Just Shows the generated graph       |\n",
        "\n",
        "\n",
        "**Example**\n",
        "```\n",
        "plt.show()\n",
        "```\n",
        "\n",
        "\n",
        "---\n",
        "\n"
      ]
    },
    {
      "cell_type": "code",
      "metadata": {
        "colab": {
          "base_uri": "https://localhost:8080/",
          "height": 303
        },
        "id": "KMLeSqquPSp6",
        "outputId": "ff66ebe2-41db-4074-d52b-4a2e1940c84a"
      },
      "source": [
        "# Plotting the results\n",
        "plt.xlabel(\"Console\\nBlue: Play Station\\nGreen: X-Box\")\n",
        "plt.ylabel(\"Probability Density Of Volume\")\n",
        "plt.hist(console, bins=[4, 5], align='left', rwidth=0.8, color='green')\n",
        "plt.hist(console, bins=[5, 6], align='left', rwidth=0.8, color='blue')\n",
        "plt.hist(console, bins=[6, 7], align='left', rwidth=0.8, color='blue')\n",
        "plt.hist(console, bins=[10, 11], align='left', rwidth=0.8, color='blue')\n",
        "plt.hist(console, bins=[12, 13], align='left', rwidth=0.8, color='blue')\n",
        "plt.hist(console, bins=[13, 14], align='left', rwidth=0.8, color='green')\n",
        "plt.hist(console, bins=[16, 17], align='left', rwidth=0.8, color='blue')\n",
        "plt.hist(console, bins=[17, 18], align='left', rwidth=0.8, color='green')\n",
        "plt.show()"
      ],
      "execution_count": 4,
      "outputs": [
        {
          "output_type": "display_data",
          "data": {
            "image/png": "[encoded data removed]",
            "text/plain": [
              "<Figure size 432x288 with 1 Axes>"
            ]
          },
          "metadata": {
            "tags": [],
            "needs_background": "light"
          }
        }
      ]
    },
    {
      "cell_type": "markdown",
      "metadata": {
        "id": "QeJ3nK7nUESV"
      },
      "source": [
        "## Round(a) Winner PlayStation!!!\n",
        "Just based on the graph above it is very clear that more publishers prefer to publish their games on PlayStations given by the height of the bar graph. **Blue** represents Playstation while **Green** represents X-Box. The vertical axis may seem confusing to you but it is just the density of the sheer volume of the amount of game published by publishers. We will not be covering ***histograms*** on our tour so let's continue.\n",
        "\n",
        "\n",
        "---\n",
        "### Points as of Round(a)\n",
        "\n",
        "| Console      | Points |\n",
        "| ----------- | ----------- |\n",
        "| Play Station      | 1       |\n",
        "| X-Box   | 0        |"
      ]
    },
    {
      "cell_type": "code",
      "metadata": {
        "id": "I8h5Al9XV3e9"
      },
      "source": [
        "del plt\n",
        "del np\n",
        "del pd"
      ],
      "execution_count": 5,
      "outputs": []
    },
    {
      "cell_type": "markdown",
      "metadata": {
        "id": "csxFUazsU-9M"
      },
      "source": [
        "# (d) Console Usage Over the years\n",
        "This round covers the relationship between the year and the number of consoles used within that time frame to get an overall better picture of how the consoles performed throughout the years."
      ]
    },
    {
      "cell_type": "markdown",
      "metadata": {
        "id": "_HSuv5SYWfMP"
      },
      "source": [
        "## Data Preprocessing"
      ]
    },
    {
      "cell_type": "markdown",
      "metadata": {
        "id": "2wGIfyUBWnMC"
      },
      "source": [
        "### Importing the libraries"
      ]
    },
    {
      "cell_type": "code",
      "metadata": {
        "id": "tOdv39mNWj1j"
      },
      "source": [
        "import numpy as np\n",
        "import pandas as pd\n",
        "import matplotlib.pyplot as plt"
      ],
      "execution_count": 6,
      "outputs": []
    },
    {
      "cell_type": "markdown",
      "metadata": {
        "id": "UlSOjpRdWvda"
      },
      "source": [
        "### Getting the dataset"
      ]
    },
    {
      "cell_type": "code",
      "metadata": {
        "id": "5q-ag6axWzwl"
      },
      "source": [
        "# Common Data Preprocessing\n",
        "dataset = pd.read_csv('vgsales.csv')"
      ],
      "execution_count": 7,
      "outputs": []
    },
    {
      "cell_type": "markdown",
      "metadata": {
        "id": "5HXQFYaoW245"
      },
      "source": [
        "### Making the data compatible with the library"
      ]
    },
    {
      "cell_type": "code",
      "metadata": {
        "id": "crXu2dKGXQt2"
      },
      "source": [
        "# Getting the round specific data\n",
        "year = dataset['Year'].values\n",
        "platform = dataset['Platform'].values\n",
        "\n",
        "# Converting into 2d arrays\n",
        "year = np.array(year).reshape(-1, 1)\n",
        "platform = np.array(platform).reshape(-1, 1)\n",
        "input_arr = np.concatenate((year, platform), 1)"
      ],
      "execution_count": 8,
      "outputs": []
    },
    {
      "cell_type": "markdown",
      "metadata": {
        "id": "joqRRicmYwkY"
      },
      "source": [
        "### Preparing the variables to be plotted in the graph"
      ]
    },
    {
      "cell_type": "code",
      "metadata": {
        "id": "5-G_kq2BY3vC"
      },
      "source": [
        "# Creating a dictionary of playstations and X-Boxes\n",
        "list_of_consoles = []\n",
        "for current_element in input_arr:\n",
        "    if current_element[1] == \"PS3\" or current_element[1] == \"PS2\" or current_element[1] == \"PS4\" or current_element[1] == \"PS\" or current_element[1] == \"PSP\":\n",
        "        list_of_consoles.append({\"Console\": \"Play Station\", \"Year\": current_element[0]})\n",
        "    elif current_element[1] == \"X360\" or current_element[1] == \"XB\" or current_element[1] == \"XONE\":\n",
        "        list_of_consoles.append({\"Console\": \"X-Box\", \"Year\": current_element[0]})\n",
        "\n",
        "\n",
        "# Getting all the variables for a plot\n",
        "X_Box_plots = []\n",
        "Play_Station_Plots = []\n",
        "for curr2_element in list_of_consoles:\n",
        "    if curr2_element.get(\"Console\") == \"X-Box\":\n",
        "        X_Box_plots.append(curr2_element.get(\"Year\"))\n",
        "    else:\n",
        "        Play_Station_Plots.append(curr2_element.get(\"Year\"))"
      ],
      "execution_count": 9,
      "outputs": []
    },
    {
      "cell_type": "markdown",
      "metadata": {
        "id": "sl6GXs8dY7N5"
      },
      "source": [
        "## Plotting the final results\n",
        "\n",
        "**Method Name**\n",
        "#### [plt.subplot()](https://matplotlib.org/3.3.3/api/_as_gen/matplotlib.pyplot.subplot.html)\n",
        "**Paramater Description**\n",
        "\n",
        "| Paramater      | Description |\n",
        "| ----------- | ----------- |\n",
        "| Index     | A 3 digit number (usually starts with 221) that producesmultiple graphs in one pallete.      |\n",
        "\n",
        "\n",
        "**Example**\n",
        "```\n",
        "plt.subplot(221)\n",
        "```"
      ]
    },
    {
      "cell_type": "code",
      "metadata": {
        "colab": {
          "base_uri": "https://localhost:8080/",
          "height": 453
        },
        "id": "9DbVsOBQZCGi",
        "outputId": "84cd7465-5f48-4a3e-9f17-858f9869a5b6"
      },
      "source": [
        "plt.subplot(221)\n",
        "plt.title(\"Play Station\")\n",
        "plt.xlabel(\"Year\")\n",
        "plt.ylabel(\"Volume\")\n",
        "plt.hist(Play_Station_Plots, color='blue', rwidth=0.8, align='left')\n",
        "plt.subplot(223)\n",
        "plt.xlabel(\"Year\\nX-Box\")\n",
        "plt.ylabel(\"Volume\")\n",
        "plt.hist(X_Box_plots, color='green', rwidth=0.8, align='left')"
      ],
      "execution_count": 10,
      "outputs": [
        {
          "output_type": "stream",
          "text": [
            "/usr/local/lib/python3.6/dist-packages/numpy/lib/histograms.py:839: RuntimeWarning: invalid value encountered in greater_equal\n",
            "  keep = (tmp_a >= first_edge)\n",
            "/usr/local/lib/python3.6/dist-packages/numpy/lib/histograms.py:840: RuntimeWarning: invalid value encountered in less_equal\n",
            "  keep &= (tmp_a <= last_edge)\n"
          ],
          "name": "stderr"
        },
        {
          "output_type": "execute_result",
          "data": {
            "text/plain": [
              "(array([ 34., 347., 177., 352., 126., 320., 388., 106., 140.,  48.]),\n",
              " array([2000. , 2001.6, 2003.2, 2004.8, 2006.4, 2008. , 2009.6, 2011.2,\n",
              "        2012.8, 2014.4, 2016. ]),\n",
              " <a list of 10 Patch objects>)"
            ]
          },
          "metadata": {
            "tags": []
          },
          "execution_count": 10
        },
        {
          "output_type": "display_data",
          "data": {
            "image/png": "[encoded data removed]",
            "text/plain": [
              "<Figure size 432x288 with 2 Axes>"
            ]
          },
          "metadata": {
            "tags": [],
            "needs_background": "light"
          }
        }
      ]
    },
    {
      "cell_type": "markdown",
      "metadata": {
        "id": "CFvK2Bw1Z0hD"
      },
      "source": [
        "# Round(f) Winner PlayStation!!!\n",
        "There are 2 reasons why I have come to this conclusion, one is that PlayStation has been here for a very long time dating back to the **1980s** while X-Box was a recent **2000s**. The sheer volume of usage for the PlayStation is also very evident with having its peak around 2010 along with X-Box."
      ]
    }
  ]
}